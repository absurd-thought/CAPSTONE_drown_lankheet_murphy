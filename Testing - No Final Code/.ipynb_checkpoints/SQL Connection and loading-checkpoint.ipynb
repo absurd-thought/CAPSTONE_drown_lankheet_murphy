{
 "cells": [
  {
   "cell_type": "code",
   "execution_count": 10,
   "id": "10f2d8b6-51a7-4b06-84da-1d9df3e97eef",
   "metadata": {},
   "outputs": [],
   "source": [
    "## Lets import our requirements\n",
    "import boto3\n",
    "import pandas as pd\n",
    "import psycopg2\n",
    "from sqlalchemy import create_engine\n",
    "import os\n",
    "import sqlite3\n",
    "parentDirectory = os.path.abspath(os.path.join(os.getcwd(), os.pardir))"
   ]
  },
  {
   "cell_type": "code",
   "execution_count": 8,
   "id": "a53905dd-cab5-4306-b492-6a19a079de97",
   "metadata": {},
   "outputs": [
    {
     "data": {
      "text/html": [
       "<div>\n",
       "<style scoped>\n",
       "    .dataframe tbody tr th:only-of-type {\n",
       "        vertical-align: middle;\n",
       "    }\n",
       "\n",
       "    .dataframe tbody tr th {\n",
       "        vertical-align: top;\n",
       "    }\n",
       "\n",
       "    .dataframe thead th {\n",
       "        text-align: right;\n",
       "    }\n",
       "</style>\n",
       "<table border=\"1\" class=\"dataframe\">\n",
       "  <thead>\n",
       "    <tr style=\"text-align: right;\">\n",
       "      <th></th>\n",
       "      <th>id</th>\n",
       "      <th>name</th>\n",
       "      <th>host_id</th>\n",
       "      <th>host_name</th>\n",
       "      <th>neighbourhood_group</th>\n",
       "      <th>neighbourhood</th>\n",
       "      <th>latitude</th>\n",
       "      <th>longitude</th>\n",
       "      <th>room_type</th>\n",
       "      <th>price</th>\n",
       "      <th>minimum_nights</th>\n",
       "      <th>number_of_reviews</th>\n",
       "      <th>last_review</th>\n",
       "      <th>reviews_per_month</th>\n",
       "      <th>calculated_host_listings_count</th>\n",
       "      <th>availability_365</th>\n",
       "      <th>number_of_reviews_ltm</th>\n",
       "      <th>license</th>\n",
       "    </tr>\n",
       "  </thead>\n",
       "  <tbody>\n",
       "    <tr>\n",
       "      <th>0</th>\n",
       "      <td>109</td>\n",
       "      <td>Amazing bright elegant condo park front *UPGRA...</td>\n",
       "      <td>521</td>\n",
       "      <td>Paolo</td>\n",
       "      <td>Other Cities</td>\n",
       "      <td>Culver City</td>\n",
       "      <td>33.98301</td>\n",
       "      <td>-118.38607</td>\n",
       "      <td>Entire home/apt</td>\n",
       "      <td>115</td>\n",
       "      <td>30</td>\n",
       "      <td>2</td>\n",
       "      <td>2016-05-15</td>\n",
       "      <td>0.01</td>\n",
       "      <td>1</td>\n",
       "      <td>227</td>\n",
       "      <td>0</td>\n",
       "      <td>NaN</td>\n",
       "    </tr>\n",
       "    <tr>\n",
       "      <th>1</th>\n",
       "      <td>2708</td>\n",
       "      <td>Runyon Canyon | Beau Furn Mirror Mini-Suite Fi...</td>\n",
       "      <td>3008</td>\n",
       "      <td>Chas.</td>\n",
       "      <td>City of Los Angeles</td>\n",
       "      <td>Hollywood</td>\n",
       "      <td>34.09625</td>\n",
       "      <td>-118.34605</td>\n",
       "      <td>Private room</td>\n",
       "      <td>118</td>\n",
       "      <td>30</td>\n",
       "      <td>38</td>\n",
       "      <td>2022-11-29</td>\n",
       "      <td>0.37</td>\n",
       "      <td>2</td>\n",
       "      <td>239</td>\n",
       "      <td>5</td>\n",
       "      <td>NaN</td>\n",
       "    </tr>\n",
       "    <tr>\n",
       "      <th>2</th>\n",
       "      <td>2732</td>\n",
       "      <td>Zen Life at the Beach</td>\n",
       "      <td>3041</td>\n",
       "      <td>Yoga Priestess</td>\n",
       "      <td>Other Cities</td>\n",
       "      <td>Santa Monica</td>\n",
       "      <td>34.00440</td>\n",
       "      <td>-118.48095</td>\n",
       "      <td>Private room</td>\n",
       "      <td>179</td>\n",
       "      <td>7</td>\n",
       "      <td>24</td>\n",
       "      <td>2022-08-21</td>\n",
       "      <td>0.17</td>\n",
       "      <td>2</td>\n",
       "      <td>365</td>\n",
       "      <td>3</td>\n",
       "      <td>NaN</td>\n",
       "    </tr>\n",
       "    <tr>\n",
       "      <th>3</th>\n",
       "      <td>65467</td>\n",
       "      <td>A Luxury Home in Los Angeles</td>\n",
       "      <td>61864</td>\n",
       "      <td>Olivier</td>\n",
       "      <td>Other Cities</td>\n",
       "      <td>Culver City</td>\n",
       "      <td>34.02438</td>\n",
       "      <td>-118.38374</td>\n",
       "      <td>Private room</td>\n",
       "      <td>300</td>\n",
       "      <td>60</td>\n",
       "      <td>0</td>\n",
       "      <td>NaN</td>\n",
       "      <td>NaN</td>\n",
       "      <td>2</td>\n",
       "      <td>365</td>\n",
       "      <td>0</td>\n",
       "      <td>NaN</td>\n",
       "    </tr>\n",
       "    <tr>\n",
       "      <th>4</th>\n",
       "      <td>206662</td>\n",
       "      <td>Hollywood &amp; Hiking, 30 day minimum</td>\n",
       "      <td>33861</td>\n",
       "      <td>Kevin</td>\n",
       "      <td>City of Los Angeles</td>\n",
       "      <td>Hollywood Hills West</td>\n",
       "      <td>34.10420</td>\n",
       "      <td>-118.34748</td>\n",
       "      <td>Private room</td>\n",
       "      <td>46</td>\n",
       "      <td>30</td>\n",
       "      <td>95</td>\n",
       "      <td>2022-08-11</td>\n",
       "      <td>0.71</td>\n",
       "      <td>1</td>\n",
       "      <td>84</td>\n",
       "      <td>4</td>\n",
       "      <td>NaN</td>\n",
       "    </tr>\n",
       "  </tbody>\n",
       "</table>\n",
       "</div>"
      ],
      "text/plain": [
       "       id                                               name  host_id  \\\n",
       "0     109  Amazing bright elegant condo park front *UPGRA...      521   \n",
       "1    2708  Runyon Canyon | Beau Furn Mirror Mini-Suite Fi...     3008   \n",
       "2    2732                              Zen Life at the Beach     3041   \n",
       "3   65467                       A Luxury Home in Los Angeles    61864   \n",
       "4  206662                 Hollywood & Hiking, 30 day minimum    33861   \n",
       "\n",
       "        host_name  neighbourhood_group         neighbourhood  latitude  \\\n",
       "0           Paolo         Other Cities           Culver City  33.98301   \n",
       "1           Chas.  City of Los Angeles             Hollywood  34.09625   \n",
       "2  Yoga Priestess         Other Cities          Santa Monica  34.00440   \n",
       "3         Olivier         Other Cities           Culver City  34.02438   \n",
       "4           Kevin  City of Los Angeles  Hollywood Hills West  34.10420   \n",
       "\n",
       "   longitude        room_type  price  minimum_nights  number_of_reviews  \\\n",
       "0 -118.38607  Entire home/apt    115              30                  2   \n",
       "1 -118.34605     Private room    118              30                 38   \n",
       "2 -118.48095     Private room    179               7                 24   \n",
       "3 -118.38374     Private room    300              60                  0   \n",
       "4 -118.34748     Private room     46              30                 95   \n",
       "\n",
       "  last_review  reviews_per_month  calculated_host_listings_count  \\\n",
       "0  2016-05-15               0.01                               1   \n",
       "1  2022-11-29               0.37                               2   \n",
       "2  2022-08-21               0.17                               2   \n",
       "3         NaN                NaN                               2   \n",
       "4  2022-08-11               0.71                               1   \n",
       "\n",
       "   availability_365  number_of_reviews_ltm license  \n",
       "0               227                      0     NaN  \n",
       "1               239                      5     NaN  \n",
       "2               365                      3     NaN  \n",
       "3               365                      0     NaN  \n",
       "4                84                      4     NaN  "
      ]
     },
     "execution_count": 8,
     "metadata": {},
     "output_type": "execute_result"
    }
   ],
   "source": [
    "#parentDirectory\n",
    "test = pd.read_csv(os.path.join(parentDirectory, 'listings_LACA.csv'))\n",
    "test.head()"
   ]
  },
  {
   "cell_type": "code",
   "execution_count": 26,
   "id": "5d4c5bdf-228d-4a74-94b5-79988350e8ac",
   "metadata": {},
   "outputs": [],
   "source": [
    "endpoint = 'drown-lankheet-murphy.cl85i2cd6lnd.us-east-2.rds.amazonaws.com'\n",
    "\n",
    "# This is the default admin/root account. Leave this value as 'postgres':\n",
    "user = 'postgres'\n",
    "\n",
    "# This is the master password you set above:\n",
    "password = 'Lankheet699'\n",
    "\n",
    "## Do not change this value or rename this variable, it is used by the autograder below:\n",
    "connection = create_engine(f'postgresql+psycopg2://{user}:{password}@{endpoint}/postgres', pool_recycle=3600);"
   ]
  },
  {
   "cell_type": "code",
   "execution_count": 11,
   "id": "fca8b5b6-916c-451f-9b68-871d104011f6",
   "metadata": {},
   "outputs": [],
   "source": [
    "conn = psycopg2.connect(\n",
    "    host=endpoint,\n",
    "    database=\"postgres\",\n",
    "    user=\"postgres\",\n",
    "    password=\"Lankheet699\")"
   ]
  },
  {
   "cell_type": "code",
   "execution_count": 14,
   "id": "6bd2adf9-af44-420d-9d4a-8a65acba28b7",
   "metadata": {},
   "outputs": [],
   "source": [
    "cur=conn.cursor()"
   ]
  },
  {
   "cell_type": "code",
   "execution_count": 20,
   "id": "59762db6-c433-4ad4-afd7-8bd236e721ba",
   "metadata": {},
   "outputs": [],
   "source": [
    "cur.execute('select * from test')"
   ]
  },
  {
   "cell_type": "code",
   "execution_count": 21,
   "id": "27a4cb85-7ab0-4d96-a5c0-f5d8a88366ea",
   "metadata": {},
   "outputs": [
    {
     "data": {
      "text/plain": [
       "[(5, 'apple'), (20, 'bananna')]"
      ]
     },
     "execution_count": 21,
     "metadata": {},
     "output_type": "execute_result"
    }
   ],
   "source": [
    "cur.fetchall()"
   ]
  },
  {
   "cell_type": "code",
   "execution_count": 27,
   "id": "2c4f85b4-63c2-4e52-b8d9-35f99a6298ac",
   "metadata": {},
   "outputs": [
    {
     "data": {
      "text/plain": [
       "438"
      ]
     },
     "execution_count": 27,
     "metadata": {},
     "output_type": "execute_result"
    }
   ],
   "source": [
    "test.to_sql('LATest',con=connection, if_exists='replace',index=False)\n",
    "#test"
   ]
  },
  {
   "cell_type": "code",
   "execution_count": 29,
   "id": "9a7edd27-67f8-43d1-8121-ff9c5e183d2c",
   "metadata": {},
   "outputs": [
    {
     "ename": "AttributeError",
     "evalue": "'Engine' object has no attribute 'close'",
     "output_type": "error",
     "traceback": [
      "\u001b[1;31m---------------------------------------------------------------------------\u001b[0m",
      "\u001b[1;31mAttributeError\u001b[0m                            Traceback (most recent call last)",
      "Input \u001b[1;32mIn [29]\u001b[0m, in \u001b[0;36m<cell line: 2>\u001b[1;34m()\u001b[0m\n\u001b[0;32m      1\u001b[0m conn\u001b[38;5;241m.\u001b[39mclose()\n\u001b[1;32m----> 2\u001b[0m \u001b[43mconnection\u001b[49m\u001b[38;5;241;43m.\u001b[39;49m\u001b[43mclose\u001b[49m()\n",
      "\u001b[1;31mAttributeError\u001b[0m: 'Engine' object has no attribute 'close'"
     ]
    }
   ],
   "source": [
    "conn.close()\n",
    "connection.close()"
   ]
  }
 ],
 "metadata": {
  "kernelspec": {
   "display_name": "Python 3 (ipykernel)",
   "language": "python",
   "name": "python3"
  },
  "language_info": {
   "codemirror_mode": {
    "name": "ipython",
    "version": 3
   },
   "file_extension": ".py",
   "mimetype": "text/x-python",
   "name": "python",
   "nbconvert_exporter": "python",
   "pygments_lexer": "ipython3",
   "version": "3.9.12"
  }
 },
 "nbformat": 4,
 "nbformat_minor": 5
}

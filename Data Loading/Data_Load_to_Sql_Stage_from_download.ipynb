{
 "cells": [
  {
   "cell_type": "code",
   "execution_count": 8,
   "id": "d53f6b4b-18eb-4fef-82e6-6f307cd5179d",
   "metadata": {},
   "outputs": [],
   "source": [
    "## Lets import our requirements\n",
    "import boto3\n",
    "import pandas as pd\n",
    "#import psycopg2\n",
    "import pymysql\n",
    "from sqlalchemy import create_engine\n",
    "import os\n",
    "import sqlite3\n",
    "import sys\n",
    "parentDirectory = os.path.abspath(os.path.join(os.getcwd(), os.pardir))\n",
    "sys.path.insert(0,parentDirectory)\n",
    "from secretsPaul import secrets\n",
    "\n",
    "\n",
    "import re\n",
    "import gzip\n",
    "import shutil\n",
    "import urllib\n"
   ]
  },
  {
   "cell_type": "code",
   "execution_count": null,
   "id": "5e50ddcb-6208-43ce-96bb-e8b49fd191e9",
   "metadata": {},
   "outputs": [],
   "source": []
  },
  {
   "cell_type": "code",
   "execution_count": 2,
   "id": "f7444264-3cd5-4631-a927-2e94bba4ab55",
   "metadata": {},
   "outputs": [],
   "source": [
    "pd.set_option('display.max_columns', None)\n",
    "pd.set_option('display.max_rows', 100)"
   ]
  },
  {
   "cell_type": "code",
   "execution_count": 3,
   "id": "1a9f8cb7-081f-4af7-a3b2-e3e051d9df8a",
   "metadata": {},
   "outputs": [],
   "source": [
    "#connections\n",
    "def create_connection:\n",
    "    from secretsPaul import secrets\n",
    "    endpoint = secrets.get('DATABASE_ENDPOINT')\n",
    "    user = secrets.get('DATABASE_USER')\n",
    "    password = secrets.get('DATABASE_PASSWORD')\n",
    "    port=secrets.get('DATABASE_PORT')\n",
    "    connection = create_engine(f'mysql+pymysql://{user}:{password}@{endpoint}:{port}/Capstone', pool_recycle=3600);\n",
    "    return connection"
   ]
  },
  {
   "cell_type": "code",
   "execution_count": 20,
   "id": "2433e461",
   "metadata": {},
   "outputs": [],
   "source": [
    "def handle_listing(listing_detail):\n",
    "    listing_detail.rename(columns={'id':'listing_id', 'name':'listing_name'})\n",
    "    listing_detail['price']=listing_detail['price'].str[1:].str.replace(',','').apply(pd.to_numeric) #changing price column to numeric field\n",
    "    listing_detail['host_acceptance_rate']=listing_detail['host_acceptance_rate'].str[:-1].apply(pd.to_numeric)/100 #change to numeric\n",
    "    listing_detail['host_response_rate']=listing_detail['host_response_rate'].str[:-1].apply(pd.to_numeric)/100\n",
    "\n",
    "    #converting to datetime\n",
    "    listing_detail[['last_scraped', 'host_since','calendar_last_scraped','first_review','last_review']]=listing_detail[['last_scraped', 'host_since','calendar_last_scraped','first_review','last_review']].apply(pd.to_datetime)\n",
    "    \n",
    "    #converting to 1/0 (better for modeling and summarization)\n",
    "    listing_detail[['host_is_superhost','host_has_profile_pic','host_identity_verified','has_availability','instant_bookable']]=listing_detail[['host_is_superhost','host_has_profile_pic','host_identity_verified','has_availability','instant_bookable']].replace('t',1).replace('f',0)\n",
    "\n",
    "    listing_detail.to_sql('listing_detail_stage',con=connection, if_exists='replace',index=False)\n"
   ]
  },
  {
   "cell_type": "code",
   "execution_count": 21,
   "id": "8bb093ab",
   "metadata": {},
   "outputs": [],
   "source": [
    "def handle_calendar(calendar):\n",
    "    calendar['price']=calendar['price'].str[1:].str.replace(',','').apply(pd.to_numeric) #changing price column to numeric field\n",
    "    calendar['adjusted_price']=calendar['adjusted_price'].str[1:].str.replace(',','').apply(pd.to_numeric) #changing price column to numeric field\n",
    "    calendar['date']=calendar['date'].apply(pd.to_datetime)\n",
    "    calendar['available']=calendar['available'].replace('t',1).replace('f',0)\n",
    "    calendar.rename(columns={'date':'calendar_date'})\n",
    "\n",
    "    calendar.to_sql('calendar_stage',con=connection, if_exists='replace',index=False)"
   ]
  },
  {
   "cell_type": "code",
   "execution_count": 22,
   "id": "8d972303",
   "metadata": {},
   "outputs": [],
   "source": [
    "def handle_reviews(reviews):\n",
    "    reviews['date']=reviews['date'].apply(pd.to_datetime)\n",
    "    reviews.rename(columns={'date':'review_date'})\n",
    "    \n",
    "    reviews.to_sql('reviews_stage',con=connection, if_exists='replace',index=False)"
   ]
  },
  {
   "cell_type": "code",
   "execution_count": 23,
   "id": "ac76927e-9cd1-46e1-8875-fdc85f6025cf",
   "metadata": {},
   "outputs": [],
   "source": [
    "filelist =  ['http://data.insideairbnb.com/united-states/tx/austin/2022-12-15/data/listings.csv.gz',\n",
    " 'http://data.insideairbnb.com/united-states/tx/austin/2022-12-15/data/calendar.csv.gz',\n",
    "  'http://data.insideairbnb.com/united-states/tx/austin/2022-12-15/data/reviews.csv.gz']\n",
    "\n"
   ]
  },
  {
   "cell_type": "code",
   "execution_count": 24,
   "id": "c05fbe06",
   "metadata": {},
   "outputs": [
    {
     "name": "stdout",
     "output_type": "stream",
     "text": [
      "austin_2022-12-15_listings.csv.gz\n",
      "austin_2022-12-15_calendar.csv.gz\n"
     ]
    },
    {
     "name": "stderr",
     "output_type": "stream",
     "text": [
      "Exception during reset or similar\n",
      "Traceback (most recent call last):\n",
      "  File \"c:\\Users\\Patrick.Murphy\\AppData\\Local\\Programs\\Python\\Python38\\lib\\site-packages\\pymysql\\connections.py\", line 732, in _read_bytes\n",
      "    data = self._rfile.read(num_bytes)\n",
      "  File \"c:\\Users\\Patrick.Murphy\\AppData\\Local\\Programs\\Python\\Python38\\lib\\socket.py\", line 669, in readinto\n",
      "    return self._sock.recv_into(b)\n",
      "ConnectionResetError: [WinError 10054] An existing connection was forcibly closed by the remote host\n",
      "\n",
      "During handling of the above exception, another exception occurred:\n",
      "\n",
      "Traceback (most recent call last):\n",
      "  File \"c:\\Users\\Patrick.Murphy\\AppData\\Local\\Programs\\Python\\Python38\\lib\\site-packages\\sqlalchemy\\pool\\base.py\", line 753, in _finalize_fairy\n",
      "    fairy._reset(pool)\n",
      "  File \"c:\\Users\\Patrick.Murphy\\AppData\\Local\\Programs\\Python\\Python38\\lib\\site-packages\\sqlalchemy\\pool\\base.py\", line 1004, in _reset\n",
      "    pool._dialect.do_rollback(self)\n",
      "  File \"c:\\Users\\Patrick.Murphy\\AppData\\Local\\Programs\\Python\\Python38\\lib\\site-packages\\sqlalchemy\\engine\\default.py\", line 683, in do_rollback\n",
      "    dbapi_connection.rollback()\n",
      "  File \"c:\\Users\\Patrick.Murphy\\AppData\\Local\\Programs\\Python\\Python38\\lib\\site-packages\\pymysql\\connections.py\", line 480, in rollback\n",
      "    self._read_ok_packet()\n",
      "  File \"c:\\Users\\Patrick.Murphy\\AppData\\Local\\Programs\\Python\\Python38\\lib\\site-packages\\pymysql\\connections.py\", line 443, in _read_ok_packet\n",
      "    pkt = self._read_packet()\n",
      "  File \"c:\\Users\\Patrick.Murphy\\AppData\\Local\\Programs\\Python\\Python38\\lib\\site-packages\\pymysql\\connections.py\", line 692, in _read_packet\n",
      "    packet_header = self._read_bytes(4)\n",
      "  File \"c:\\Users\\Patrick.Murphy\\AppData\\Local\\Programs\\Python\\Python38\\lib\\site-packages\\pymysql\\connections.py\", line 738, in _read_bytes\n",
      "    raise err.OperationalError(\n",
      "pymysql.err.OperationalError: (2013, 'Lost connection to MySQL server during query ([WinError 10054] An existing connection was forcibly closed by the remote host)')\n"
     ]
    },
    {
     "name": "stdout",
     "output_type": "stream",
     "text": [
      "austin_2022-12-15_reviews.csv.gz\n"
     ]
    }
   ],
   "source": [
    "for file in filelist:\n",
    "    file_split = file[46:].split(\"/\")\n",
    "    file_name = file_split[0]+'_'+file_split[1]+'_'+file_split[3]\n",
    "\n",
    "\n",
    "    urllib.request.urlretrieve(file, file_name)\n",
    "\n",
    "    with gzip.open(file_name, 'rb') as f_in:\n",
    "        with open(file_name[:-3], 'wb') as f_out:\n",
    "            shutil.copyfileobj(f_in, f_out)\n",
    "            print(file_name)\n",
    "            df = pd.read_csv(file_name)\n",
    "            if \"listing\" in file_name:\n",
    "                handle_listing(df)\n",
    "            if \"calendar\" in file_name:\n",
    "                handle_calendar(df)\n",
    "            if \"review\" in file_name:\n",
    "                handle_reviews(df)\n"
   ]
  },
  {
   "cell_type": "code",
   "execution_count": null,
   "id": "66160e75",
   "metadata": {},
   "outputs": [],
   "source": []
  },
  {
   "cell_type": "code",
   "execution_count": null,
   "id": "909669b3",
   "metadata": {},
   "outputs": [],
   "source": []
  }
 ],
 "metadata": {
  "kernelspec": {
   "display_name": "Python 3",
   "language": "python",
   "name": "python3"
  },
  "language_info": {
   "codemirror_mode": {
    "name": "ipython",
    "version": 3
   },
   "file_extension": ".py",
   "mimetype": "text/x-python",
   "name": "python",
   "nbconvert_exporter": "python",
   "pygments_lexer": "ipython3",
   "version": "3.8.1"
  },
  "vscode": {
   "interpreter": {
    "hash": "8e4d46044524b54b155b0903e5953a0b69503e5d351dece8e5527114309fd10e"
   }
  }
 },
 "nbformat": 4,
 "nbformat_minor": 5
}

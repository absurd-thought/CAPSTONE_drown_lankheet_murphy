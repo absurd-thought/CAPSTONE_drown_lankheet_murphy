{
 "cells": [
  {
   "cell_type": "code",
   "execution_count": null,
   "id": "a31474fd-b64a-4bae-ae94-9808fe4f6343",
   "metadata": {},
   "outputs": [],
   "source": [
    "# secrets.py\n",
    "secrets = {\n",
    "    'DATABASE_ENDPOINT': 'drown-murphy-lankheet.cluster-ceswqg9qwa9i.us-east-1.rds.amazonaws.com',\n",
    "    'DATABASE_USER': 'admin',\n",
    "    'DATABASE_PASSWORD': 'Capstone699',\n",
    "    'DATABASE_PORT': 3306\n",
    "}"
   ]
  }
 ],
 "metadata": {
  "kernelspec": {
   "display_name": "Python 3 (ipykernel)",
   "language": "python",
   "name": "python3"
  },
  "language_info": {
   "codemirror_mode": {
    "name": "ipython",
    "version": 3
   },
   "file_extension": ".py",
   "mimetype": "text/x-python",
   "name": "python",
   "nbconvert_exporter": "python",
   "pygments_lexer": "ipython3",
   "version": "3.9.12"
  }
 },
 "nbformat": 4,
 "nbformat_minor": 5
}

{
 "cells": [
  {
   "cell_type": "code",
   "execution_count": 36,
   "id": "d773fd03-43ff-4427-b4e6-cbe2a3bbeb82",
   "metadata": {},
   "outputs": [],
   "source": [
    "## Lets import our modules\n",
    "import boto3\n",
    "import pandas as pd\n",
    "#import psycopg2\n",
    "import pymysql\n",
    "from sqlalchemy import create_engine\n",
    "import os\n",
    "import sqlite3\n",
    "import sys\n",
    "parentDirectory = os.path.abspath(os.path.join(os.getcwd(), os.pardir))\n",
    "sys.path.insert(0,parentDirectory)\n",
    "from secretsPaul import secrets\n",
    "import mysql.connector\n",
    "import plotly.express as px\n",
    "from collections import Counter\n",
    "import nlp"
   ]
  },
  {
   "cell_type": "code",
   "execution_count": 32,
   "id": "5f95b1a2-0f01-44fb-8f1c-52342a267e93",
   "metadata": {},
   "outputs": [],
   "source": [
    "#connections\n",
    "#def create_connection():\n",
    "endpoint = 'drown-murphy-lankheet.cluster-ceswqg9qwa9i.us-east-1.rds.amazonaws.com'#secrets.get('DATABASE_ENDPOINT')\n",
    "user = secrets.get('DATABASE_USER')\n",
    "password = secrets.get('DATABASE_PASSWORD')\n",
    "port=secrets.get('DATABASE_PORT')\n",
    "connection = create_engine(f'mysql+pymysql://{user}:{password}@{endpoint}:{port}/Capstone', pool_recycle=3600,  connect_args={'connect_timeout': 10});\n",
    "    \n",
    "connect=mysql.connector.connect(host=endpoint, database='Capstone', user=user, password=password)\n",
    "cursor = connect.cursor()\n",
    "    #return cursor\n",
    "#cursor=create_connection()"
   ]
  },
  {
   "cell_type": "code",
   "execution_count": 33,
   "id": "4c638a24-7ff5-45bf-bea7-cb583e87f068",
   "metadata": {},
   "outputs": [],
   "source": [
    "#Pulling in listings\n",
    "all_listings = pd.read_sql('Select scrape_city, amenities, review_scores_value  from recent_listings_occup',connection) "
   ]
  },
  {
   "cell_type": "code",
   "execution_count": 34,
   "id": "8eafc8f9-6c48-45e8-9135-8abe224be5d5",
   "metadata": {},
   "outputs": [],
   "source": [
    "#Pulling in reviews & hostnames for removal\n",
    "all_reviews = pd.read_sql('SELECT comments, scrape_city FROM reviews',connection) \n",
    "host_names=pd.read_sql('Select Distinct host_name from listings',connection)\n",
    "hostnames = set(host_names.host_name)\n",
    "hostnames = {hn.lower() for hn in hostnames}"
   ]
  },
  {
   "cell_type": "code",
   "execution_count": 35,
   "id": "53c09d39-4ce4-4c36-a36b-3405678c4019",
   "metadata": {},
   "outputs": [],
   "source": [
    "#unique list of all cities\n",
    "scrape_list_=list(all_listings['scrape_city'].unique())"
   ]
  },
  {
   "cell_type": "code",
   "execution_count": 38,
   "id": "f9f68c30-4b26-4b1c-aa8a-30e3512ef72d",
   "metadata": {},
   "outputs": [
    {
     "name": "stderr",
     "output_type": "stream",
     "text": [
      "C:\\Users\\paull\\AppData\\Local\\Temp\\ipykernel_33292\\1784826504.py:10: SettingWithCopyWarning: \n",
      "A value is trying to be set on a copy of a slice from a DataFrame.\n",
      "Try using .loc[row_indexer,col_indexer] = value instead\n",
      "\n",
      "See the caveats in the documentation: https://pandas.pydata.org/pandas-docs/stable/user_guide/indexing.html#returning-a-view-versus-a-copy\n",
      "  topr['scrape_city']=city\n"
     ]
    }
   ],
   "source": [
    "#Looping through each city and running the amenities\n",
    "top_amenities=pd.DataFrame(columns=['amenity','score','scrape_city'])\n",
    "top_reviews=pd.DataFrame(columns=['pos_word','pos_score','neg_word','neg_score','scrape_city'])\n",
    "for city in scrape_list:\n",
    "    topa=nlp.get_top_amenities(all_listings[all_listings['scrape_city']==city])\n",
    "    topa['scrape_city']=city\n",
    "    topa.reset_index(inplace=True)\n",
    "    top_amenities=pd.concat([top_amenities, topa],ignore_index=True)\n",
    "    topr=nlp.get_top_review_terms(all_reviews[all_reviews['scrape_city']==city],host_names)\n",
    "    topr['scrape_city']=city\n",
    "    top_reviews=pd.concat([top_reviews, topr],ignore_index=True)\n",
    "    \n",
    "    "
   ]
  },
  {
   "cell_type": "code",
   "execution_count": 39,
   "id": "ef900e54-e793-423f-9f76-c2c3840c1c9a",
   "metadata": {},
   "outputs": [
    {
     "data": {
      "text/plain": [
       "310"
      ]
     },
     "execution_count": 39,
     "metadata": {},
     "output_type": "execute_result"
    }
   ],
   "source": [
    "top_amenities.to_sql('top_amenities',con=connection, if_exists='replace',index=False, chunksize=1000, method='multi')\n",
    "top_reviews.to_sql('top_reviews',con=connection, if_exists='replace',index=False, chunksize=1000, method='multi')"
   ]
  }
 ],
 "metadata": {
  "kernelspec": {
   "display_name": "Python 3 (ipykernel)",
   "language": "python",
   "name": "python3"
  },
  "language_info": {
   "codemirror_mode": {
    "name": "ipython",
    "version": 3
   },
   "file_extension": ".py",
   "mimetype": "text/x-python",
   "name": "python",
   "nbconvert_exporter": "python",
   "pygments_lexer": "ipython3",
   "version": "3.9.12"
  }
 },
 "nbformat": 4,
 "nbformat_minor": 5
}
